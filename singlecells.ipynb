{
 "cells": [
  {
   "cell_type": "markdown",
   "metadata": {},
   "source": [
    "# Grouping Single Cells!"
   ]
  },
  {
   "cell_type": "markdown",
   "metadata": {},
   "source": [
    "Scientists use gene expression data to learn more about cell and tissue types. In this activity you have been given expression data for different types of blood cells. However we dont know what blood cells are in the sample!!!\n",
    "We will use python to:\n",
    "- Find out what cells are in the sample\n",
    "- Find out how the cells are similar to each other"
   ]
  },
  {
   "cell_type": "code",
   "execution_count": null,
   "metadata": {},
   "outputs": [],
   "source": [
    "#libraries\n",
    "#Do you remember why libraries are useful??\n",
    "import numpy as np\n",
    "import pandas as pd\n",
    "import scanpy as sc\n",
    "sc.settings.verbosity = 3             # verbosity: errors (0), warnings (1), info (2), hints (3)\n",
    "sc.logging.print_header()\n",
    "sc.settings.set_figure_params(dpi=80, facecolor='white')"
   ]
  },
  {
   "cell_type": "code",
   "execution_count": null,
   "metadata": {},
   "outputs": [],
   "source": [
    "#read data\n",
    "#this code reads in a big table of data which contains information on how much of each gene is expressed per cell\n",
    "adata = sc.read_10x_mtx(\n",
    "    'data/filtered_gene_bc_matrices/hg19/',  # the directory with the `.mtx` file\n",
    "    var_names='gene_symbols',                # use gene symbols for the variable names (variables-axis index)\n",
    "    cache=True)                              # write a cache file for faster subsequent reading\n",
    "adata.var_names_make_unique()  # this is unnecessary if using `var_names='gene_ids'` in `sc.read_10x_mtx`"
   ]
  },
  {
   "cell_type": "code",
   "execution_count": null,
   "metadata": {},
   "outputs": [],
   "source": [
    "#lets look at the data\n",
    "#type the name of your data to get info on it!!\n",
    "#columnsxrows\n",
    "#how many columns\n",
    "#how many rows\n"
   ]
  },
  {
   "cell_type": "markdown",
   "metadata": {},
   "source": [
    "## Preprocessing"
   ]
  },
  {
   "cell_type": "markdown",
   "metadata": {},
   "source": [
    "Now we have read our data in what should we do next?\n",
    "Why?"
   ]
  },
  {
   "cell_type": "markdown",
   "metadata": {},
   "source": [
    "We want to remove genes that don't have a lot of expression because they might may the results unreliable!!\n",
    "What would we call these cells?\n",
    "\n",
    "In the next block set genes to 200 and cells to 3.\n",
    "How many genes were removed?"
   ]
  },
  {
   "cell_type": "code",
   "execution_count": null,
   "metadata": {
    "scrolled": true
   },
   "outputs": [],
   "source": [
    "#quality control\n",
    "sc.pp.filter_cells(adata, min_genes=)\n",
    "sc.pp.filter_genes(adata, min_cells=)"
   ]
  },
  {
   "cell_type": "code",
   "execution_count": null,
   "metadata": {},
   "outputs": [],
   "source": [
    "#very detailed QC\n",
    "adata.var['mt'] = adata.var_names.str.startswith('MT-')  # annotate the group of mitochondrial genes as 'mt'\n",
    "sc.pp.calculate_qc_metrics(adata, qc_vars=['mt'], percent_top=None, log1p=False, inplace=True)\n",
    "adata = adata[adata.obs.n_genes_by_counts < 2500, :]\n",
    "adata = adata[adata.obs.pct_counts_mt < 5, :]\n",
    "sc.pp.normalize_total(adata, target_sum=1e4)\n",
    "sc.pp.log1p(adata)\n",
    "sc.pp.highly_variable_genes(adata, min_mean=0.0125, max_mean=3, min_disp=0.5)\n",
    "adata = adata[:, adata.var.highly_variable]\n",
    "sc.pp.regress_out(adata, ['total_counts', 'pct_counts_mt'])\n",
    "sc.pp.scale(adata, max_value=10)"
   ]
  },
  {
   "cell_type": "markdown",
   "metadata": {},
   "source": [
    "## Grouping Cells\n",
    "We group cells together to see which ones are most similar to each other. You will see three graphs with each one using a different gene to look at differences. Which do you think is the best i.e. Which shows the most separate/distinct groups??"
   ]
  },
  {
   "cell_type": "code",
   "execution_count": null,
   "metadata": {},
   "outputs": [],
   "source": [
    "#group cells and plot\n",
    "#Grouping the cells\n",
    "sc.pp.neighbors(adata, n_neighbors=10, n_pcs=40)\n",
    "sc.tl.umap(adata)\n",
    "sc.pl.umap(adata, color=['CST3', 'NKG7', 'PPBP'])\n"
   ]
  },
  {
   "cell_type": "markdown",
   "metadata": {},
   "source": [
    "- We just grouped the cells together using expression. \n",
    "- Each cluster represents different groups of cells. \n",
    "- How many do you see?\n",
    "- Next we will group using another method, leiden. Is there much difference in groups how many groups can you see now??"
   ]
  },
  {
   "cell_type": "code",
   "execution_count": null,
   "metadata": {},
   "outputs": [],
   "source": [
    "#fill in the blanks\n",
    "sc.tl.newmethod(dataname)\n",
    "#compare to old graph\n",
    "sc.pl.umap(adata, color=['leiden', 'CST3', 'NKG7'])"
   ]
  },
  {
   "cell_type": "markdown",
   "metadata": {},
   "source": [
    "- We can see that there are three main groups.  \n",
    "- Blood cells have many subgroups but the main ones are:\n",
    "     1. red cells\n",
    "     2. white cells\n",
    "     3. platelets\n",
    "- These groups are then broken up into different types of cells which you can see in the picture below.\n",
    "<div>\n",
    "<img src=\"blood2.png\" width=\"400\">\n",
    "</div>"
   ]
  },
  {
   "cell_type": "markdown",
   "metadata": {},
   "source": [
    "## Identifying cells\n",
    "- We want to see which subtypes of the groups above are in our data.\n",
    "- Which subtypes do you think we will see?"
   ]
  },
  {
   "cell_type": "markdown",
   "metadata": {},
   "source": [
    "- A scientist looked at the different genes that were present in the groups you found above. \n",
    "- They think that the gene expression means that the groups 7 groups match the cell types in the table below\n",
    "\n",
    "\n",
    " Group | Markers | Cell Type\n",
    "---|---|---\n",
    "0 | IL7R | CD4 T cells\n",
    "1 | CD14, LYZ | CD14+ Monocytes\n",
    "2 | CD8A |\tCD8 T cells\n",
    "3 | MS4A1 |\tB cells\n",
    "4 | FCGR3A, MS4A7 |\tFCGR3A+ Monocytes\n",
    "5 | FCER1A, CST3 |\tPlatelets\n",
    "6 | PPBP |\tMegakaryocytes"
   ]
  },
  {
   "cell_type": "code",
   "execution_count": null,
   "metadata": {},
   "outputs": [],
   "source": [
    "##make a list of the new names!!\n",
    "new_cluster_names = []\n",
    "##add new names\n",
    "adata.rename_categories('leiden', new_cluster_names)"
   ]
  },
  {
   "cell_type": "code",
   "execution_count": null,
   "metadata": {},
   "outputs": [],
   "source": [
    "#lets look at the graph with identified cell types\n",
    "sc.pl.umap(adata, color='leiden', legend_loc='on data', title='', frameon=False, save='.pdf')"
   ]
  },
  {
   "cell_type": "markdown",
   "metadata": {},
   "source": [
    "## Discussion\n",
    "\n",
    "- How many subtypes are there?\n",
    "- How many main groups are there?\n",
    "- Does the picture above that shows the cell types match the groupings in our experiment???\n",
    "- Why are we interested in single cells??"
   ]
  }
 ],
 "metadata": {
  "kernelspec": {
   "display_name": "Python 3",
   "language": "python",
   "name": "python3"
  },
  "language_info": {
   "codemirror_mode": {
    "name": "ipython",
    "version": 3
   },
   "file_extension": ".py",
   "mimetype": "text/x-python",
   "name": "python",
   "nbconvert_exporter": "python",
   "pygments_lexer": "ipython3",
   "version": "3.7.8"
  }
 },
 "nbformat": 4,
 "nbformat_minor": 4
}
